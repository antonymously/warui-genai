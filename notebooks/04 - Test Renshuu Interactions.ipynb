{
 "cells": [
  {
   "cell_type": "markdown",
   "metadata": {},
   "source": [
    "Test out some ways of interacting with Renshuu API.\n",
    "-Estimate proficiency of user.\n",
    "-Select terms to use in conversation.\n",
    "-Get examples etc."
   ]
  },
  {
   "cell_type": "code",
   "execution_count": 1,
   "metadata": {},
   "outputs": [
    {
     "data": {
      "text/plain": [
       "True"
      ]
     },
     "execution_count": 1,
     "metadata": {},
     "output_type": "execute_result"
    }
   ],
   "source": [
    "import os\n",
    "import json\n",
    "from dotenv import load_dotenv\n",
    "\n",
    "load_dotenv()"
   ]
  },
  {
   "cell_type": "code",
   "execution_count": 2,
   "metadata": {},
   "outputs": [],
   "source": [
    "import requests"
   ]
  },
  {
   "cell_type": "code",
   "execution_count": 3,
   "metadata": {},
   "outputs": [],
   "source": [
    "RENSHUU_API_KEY = os.getenv('RENSHUU_API_KEY')"
   ]
  },
  {
   "cell_type": "code",
   "execution_count": 5,
   "metadata": {},
   "outputs": [],
   "source": [
    "HEADERS = {\n",
    "    'Authorization': f'Bearer {RENSHUU_API_KEY}',\n",
    "    'Content-Type': 'application/json'\n",
    "}"
   ]
  },
  {
   "cell_type": "code",
   "execution_count": 6,
   "metadata": {},
   "outputs": [],
   "source": [
    "# use these keywords to identify the level of a schedule\n",
    "SCHEDULE_KEYWORDS = [\n",
    "    (\n",
    "        \"n5\",\n",
    "        [\"n5\", \"beginner\"]\n",
    "    ),\n",
    "    (\n",
    "        \"n4\",\n",
    "        [\"n4\", \"pre-intermediate\", \"preintermediate\"]\n",
    "    ),\n",
    "    (\n",
    "        \"n3\",\n",
    "        [\"n3\", \"intermediate\"]\n",
    "    ),\n",
    "    (\n",
    "        \"n2\",\n",
    "        [\"n2\", \"pre-advanced\", \"preadvanced\"]\n",
    "    ),\n",
    "    (\n",
    "        \"n1\",\n",
    "        [\"n1\", \"advanced\"]\n",
    "    ),\n",
    "]\n",
    "LEVELS = [\"n5\", \"n4\", \"n3\", \"n2\", \"n1\"]"
   ]
  },
  {
   "cell_type": "code",
   "execution_count": 9,
   "metadata": {},
   "outputs": [
    {
     "name": "stdout",
     "output_type": "stream",
     "text": [
      "{'level_proficiencies': {'n5': 1.0, 'n4': 0.98, 'n3': 0.0475, 'n2': 0.0025, 'n1': 0.0}, 'estimated_level': 'n4'}\n"
     ]
    }
   ],
   "source": [
    "def estimate_proficiency_from_profile(threshold = 0.5):\n",
    "    '''\n",
    "    Estimate the users proficiency based on his profile level progress\n",
    "    Will get the highest level with atleast <threshold> progress\n",
    "    '''\n",
    "    profile = requests.get(\n",
    "        \"https://api.renshuu.org/v1/profile\", \n",
    "        headers=HEADERS\n",
    "    ).json()\n",
    "\n",
    "    level_proficiencies = {}\n",
    "    for level in LEVELS:\n",
    "        # assume equal importance of sentence, grammar, kanji and vocab\n",
    "        level_proficiencies[level] = (\\\n",
    "            profile[\"level_progress_percs\"][\"vocab\"][level]\\\n",
    "            + profile[\"level_progress_percs\"][\"kanji\"][level]\\\n",
    "            + profile[\"level_progress_percs\"][\"grammar\"][level]\\\n",
    "            + profile[\"level_progress_percs\"][\"sent\"][level]\\\n",
    "        )/400\n",
    "\n",
    "    estimated_level = \"n5\"\n",
    "    for level in LEVELS[1:]:\n",
    "        if level_proficiencies[level] >= threshold:\n",
    "            estimated_level = level\n",
    "\n",
    "    return {\n",
    "        \"level_proficiencies\": level_proficiencies,\n",
    "        \"estimated_level\": estimated_level,\n",
    "    }\n",
    "\n",
    "proficiency = estimate_proficiency_from_profile()\n",
    "print(proficiency)"
   ]
  },
  {
   "cell_type": "code",
   "execution_count": null,
   "metadata": {},
   "outputs": [],
   "source": []
  }
 ],
 "metadata": {
  "kernelspec": {
   "display_name": "Python 3 (ipykernel)",
   "language": "python",
   "name": "python3"
  },
  "language_info": {
   "codemirror_mode": {
    "name": "ipython",
    "version": 3
   },
   "file_extension": ".py",
   "mimetype": "text/x-python",
   "name": "python",
   "nbconvert_exporter": "python",
   "pygments_lexer": "ipython3",
   "version": "3.11.9"
  }
 },
 "nbformat": 4,
 "nbformat_minor": 2
}
