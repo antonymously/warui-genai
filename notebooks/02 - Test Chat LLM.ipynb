{
 "cells": [
  {
   "cell_type": "code",
   "execution_count": 1,
   "metadata": {},
   "outputs": [],
   "source": [
    "from warui_genai.models.llm import CLAUDE_3_SONNET_CHAT"
   ]
  },
  {
   "cell_type": "code",
   "execution_count": 2,
   "metadata": {},
   "outputs": [
    {
     "name": "stdout",
     "output_type": "stream",
     "text": [
      "はい、喜んでコーヒーに行きましょう。落ち着いた雰囲気の中でおしゃべりしながら、美味しいコーヒーを楽しめますね。どこかおすすめのカフェはありますか?天気も良さそうなので、外のテラス席が気持ちよさそうです。一緒に行って、ゆっくりとした時間を過ごしましょう。\n"
     ]
    }
   ],
   "source": [
    "res = CLAUDE_3_SONNET_CHAT.invoke(\"今日コーヒーにいきないか？\")\n",
    "print(res)"
   ]
  },
  {
   "cell_type": "code",
   "execution_count": null,
   "metadata": {},
   "outputs": [],
   "source": []
  },
  {
   "cell_type": "code",
   "execution_count": null,
   "metadata": {},
   "outputs": [],
   "source": []
  }
 ],
 "metadata": {
  "kernelspec": {
   "display_name": "Python 3 (ipykernel)",
   "language": "python",
   "name": "python3"
  },
  "language_info": {
   "codemirror_mode": {
    "name": "ipython",
    "version": 3
   },
   "file_extension": ".py",
   "mimetype": "text/x-python",
   "name": "python",
   "nbconvert_exporter": "python",
   "pygments_lexer": "ipython3",
   "version": "3.11.9"
  }
 },
 "nbformat": 4,
 "nbformat_minor": 2
}
